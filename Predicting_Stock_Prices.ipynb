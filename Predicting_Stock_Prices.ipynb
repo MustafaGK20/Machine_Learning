{
 "cells": [
  {
   "cell_type": "code",
   "execution_count": 84,
   "id": "6b3eee4a",
   "metadata": {},
   "outputs": [],
   "source": [
    "import numpy as np\n",
    "import pandas as pd\n",
    "import matplotlib.pyplot as plt\n",
    "import pandas_datareader as web\n",
    "import datetime as dt\n",
    "\n",
    "from sklearn.preprocessing import MinMaxScaler\n",
    "from tensorflow.keras.models import Sequential\n",
    "from tensorflow.keras.layers import Dense, Dropout, LSTM"
   ]
  },
  {
   "cell_type": "code",
   "execution_count": 85,
   "id": "185ddaec",
   "metadata": {},
   "outputs": [],
   "source": [
    "# Load Data\n",
    "company = \"FB\""
   ]
  },
  {
   "cell_type": "code",
   "execution_count": 86,
   "id": "10960a87",
   "metadata": {},
   "outputs": [],
   "source": [
    "start= dt.datetime(2015,1,1)\n",
    "end = dt.datetime(2021,1,1)"
   ]
  },
  {
   "cell_type": "code",
   "execution_count": 87,
   "id": "1d54ed5a",
   "metadata": {},
   "outputs": [],
   "source": [
    "data= web.DataReader(company, \"yahoo\", start, end)"
   ]
  },
  {
   "cell_type": "code",
   "execution_count": 88,
   "id": "e2ab65f3",
   "metadata": {},
   "outputs": [
    {
     "data": {
      "text/html": [
       "<div>\n",
       "<style scoped>\n",
       "    .dataframe tbody tr th:only-of-type {\n",
       "        vertical-align: middle;\n",
       "    }\n",
       "\n",
       "    .dataframe tbody tr th {\n",
       "        vertical-align: top;\n",
       "    }\n",
       "\n",
       "    .dataframe thead th {\n",
       "        text-align: right;\n",
       "    }\n",
       "</style>\n",
       "<table border=\"1\" class=\"dataframe\">\n",
       "  <thead>\n",
       "    <tr style=\"text-align: right;\">\n",
       "      <th></th>\n",
       "      <th>High</th>\n",
       "      <th>Low</th>\n",
       "      <th>Open</th>\n",
       "      <th>Close</th>\n",
       "      <th>Volume</th>\n",
       "      <th>Adj Close</th>\n",
       "    </tr>\n",
       "    <tr>\n",
       "      <th>Date</th>\n",
       "      <th></th>\n",
       "      <th></th>\n",
       "      <th></th>\n",
       "      <th></th>\n",
       "      <th></th>\n",
       "      <th></th>\n",
       "    </tr>\n",
       "  </thead>\n",
       "  <tbody>\n",
       "    <tr>\n",
       "      <th>2022-08-29</th>\n",
       "      <td>163.050003</td>\n",
       "      <td>159.009995</td>\n",
       "      <td>160.660004</td>\n",
       "      <td>159.169998</td>\n",
       "      <td>20052700</td>\n",
       "      <td>159.169998</td>\n",
       "    </tr>\n",
       "    <tr>\n",
       "      <th>2022-08-30</th>\n",
       "      <td>161.660004</td>\n",
       "      <td>155.910004</td>\n",
       "      <td>160.350006</td>\n",
       "      <td>157.160004</td>\n",
       "      <td>19567900</td>\n",
       "      <td>157.160004</td>\n",
       "    </tr>\n",
       "    <tr>\n",
       "      <th>2022-08-31</th>\n",
       "      <td>167.839996</td>\n",
       "      <td>162.139999</td>\n",
       "      <td>167.070007</td>\n",
       "      <td>162.929993</td>\n",
       "      <td>40953000</td>\n",
       "      <td>162.929993</td>\n",
       "    </tr>\n",
       "    <tr>\n",
       "      <th>2022-09-01</th>\n",
       "      <td>167.360001</td>\n",
       "      <td>160.350006</td>\n",
       "      <td>163.580002</td>\n",
       "      <td>165.360001</td>\n",
       "      <td>30145700</td>\n",
       "      <td>165.360001</td>\n",
       "    </tr>\n",
       "    <tr>\n",
       "      <th>2022-09-02</th>\n",
       "      <td>167.929993</td>\n",
       "      <td>159.220001</td>\n",
       "      <td>167.449997</td>\n",
       "      <td>160.320007</td>\n",
       "      <td>22609100</td>\n",
       "      <td>160.320007</td>\n",
       "    </tr>\n",
       "  </tbody>\n",
       "</table>\n",
       "</div>"
      ],
      "text/plain": [
       "                  High         Low        Open       Close    Volume  \\\n",
       "Date                                                                   \n",
       "2022-08-29  163.050003  159.009995  160.660004  159.169998  20052700   \n",
       "2022-08-30  161.660004  155.910004  160.350006  157.160004  19567900   \n",
       "2022-08-31  167.839996  162.139999  167.070007  162.929993  40953000   \n",
       "2022-09-01  167.360001  160.350006  163.580002  165.360001  30145700   \n",
       "2022-09-02  167.929993  159.220001  167.449997  160.320007  22609100   \n",
       "\n",
       "             Adj Close  \n",
       "Date                    \n",
       "2022-08-29  159.169998  \n",
       "2022-08-30  157.160004  \n",
       "2022-08-31  162.929993  \n",
       "2022-09-01  165.360001  \n",
       "2022-09-02  160.320007  "
      ]
     },
     "execution_count": 88,
     "metadata": {},
     "output_type": "execute_result"
    }
   ],
   "source": [
    "data.tail()"
   ]
  },
  {
   "cell_type": "code",
   "execution_count": 89,
   "id": "1f6c1d18",
   "metadata": {},
   "outputs": [],
   "source": [
    "# Prepare Data\n",
    "scaler= MinMaxScaler(feature_range=(0,1))\n",
    "scaled_data= scaler.fit_transform(data[\"Close\"].values.reshape(-1,1))"
   ]
  },
  {
   "cell_type": "code",
   "execution_count": 90,
   "id": "9386e548",
   "metadata": {},
   "outputs": [],
   "source": [
    "pred_days= 60"
   ]
  },
  {
   "cell_type": "code",
   "execution_count": 91,
   "id": "b4595a54",
   "metadata": {},
   "outputs": [],
   "source": [
    "x_train= []\n",
    "y_train= []"
   ]
  },
  {
   "cell_type": "code",
   "execution_count": 92,
   "id": "93fb22a8",
   "metadata": {},
   "outputs": [],
   "source": [
    "for x in range(pred_days, len(scaled_data)):\n",
    "    x_train.append(scaled_data[x-pred_days : x, 0])\n",
    "    y_train.append(scaled_data[x,0])"
   ]
  },
  {
   "cell_type": "code",
   "execution_count": 93,
   "id": "cddcef87",
   "metadata": {},
   "outputs": [],
   "source": [
    "x_train, y_train = np.array(x_train), np.array(y_train)"
   ]
  },
  {
   "cell_type": "code",
   "execution_count": 94,
   "id": "90457f5e",
   "metadata": {},
   "outputs": [],
   "source": [
    "x_train= np.reshape(x_train, (x_train.shape[0], x_train.shape[1], 1))"
   ]
  },
  {
   "cell_type": "markdown",
   "id": "e1dfbf91",
   "metadata": {},
   "source": [
    "# Build The Model"
   ]
  },
  {
   "cell_type": "code",
   "execution_count": 95,
   "id": "6999e4c2",
   "metadata": {
    "scrolled": true
   },
   "outputs": [
    {
     "name": "stdout",
     "output_type": "stream",
     "text": [
      "Epoch 1/25\n",
      "6/6 [==============================] - 4s 34ms/step - loss: 0.1146\n",
      "Epoch 2/25\n",
      "6/6 [==============================] - 0s 33ms/step - loss: 0.0402\n",
      "Epoch 3/25\n",
      "6/6 [==============================] - 0s 33ms/step - loss: 0.0266\n",
      "Epoch 4/25\n",
      "6/6 [==============================] - 0s 34ms/step - loss: 0.0191\n",
      "Epoch 5/25\n",
      "6/6 [==============================] - 0s 34ms/step - loss: 0.0150\n",
      "Epoch 6/25\n",
      "6/6 [==============================] - 0s 35ms/step - loss: 0.0159\n",
      "Epoch 7/25\n",
      "6/6 [==============================] - 0s 33ms/step - loss: 0.0119\n",
      "Epoch 8/25\n",
      "6/6 [==============================] - 0s 33ms/step - loss: 0.0121\n",
      "Epoch 9/25\n",
      "6/6 [==============================] - 0s 34ms/step - loss: 0.0102\n",
      "Epoch 10/25\n",
      "6/6 [==============================] - 0s 34ms/step - loss: 0.0108\n",
      "Epoch 11/25\n",
      "6/6 [==============================] - 0s 39ms/step - loss: 0.0106\n",
      "Epoch 12/25\n",
      "6/6 [==============================] - 0s 38ms/step - loss: 0.0093\n",
      "Epoch 13/25\n",
      "6/6 [==============================] - 0s 34ms/step - loss: 0.0078\n",
      "Epoch 14/25\n",
      "6/6 [==============================] - 0s 35ms/step - loss: 0.0081\n",
      "Epoch 15/25\n",
      "6/6 [==============================] - 0s 35ms/step - loss: 0.0083\n",
      "Epoch 16/25\n",
      "6/6 [==============================] - 0s 35ms/step - loss: 0.0077\n",
      "Epoch 17/25\n",
      "6/6 [==============================] - 0s 35ms/step - loss: 0.0070\n",
      "Epoch 18/25\n",
      "6/6 [==============================] - 0s 36ms/step - loss: 0.0085\n",
      "Epoch 19/25\n",
      "6/6 [==============================] - 0s 35ms/step - loss: 0.0080\n",
      "Epoch 20/25\n",
      "6/6 [==============================] - 0s 37ms/step - loss: 0.0062\n",
      "Epoch 21/25\n",
      "6/6 [==============================] - 0s 33ms/step - loss: 0.0067\n",
      "Epoch 22/25\n",
      "6/6 [==============================] - 0s 35ms/step - loss: 0.0062\n",
      "Epoch 23/25\n",
      "6/6 [==============================] - 0s 35ms/step - loss: 0.0067\n",
      "Epoch 24/25\n",
      "6/6 [==============================] - 0s 36ms/step - loss: 0.0080\n",
      "Epoch 25/25\n",
      "6/6 [==============================] - 0s 33ms/step - loss: 0.0069\n"
     ]
    },
    {
     "data": {
      "text/plain": [
       "<keras.callbacks.History at 0x267a138a160>"
      ]
     },
     "execution_count": 95,
     "metadata": {},
     "output_type": "execute_result"
    }
   ],
   "source": [
    "model= Sequential()\n",
    "\n",
    "model.add(LSTM(units=50, return_sequences=True, input_shape= (x_train.shape[1], 1)))\n",
    "model.add(Dropout(0.2))\n",
    "model.add(LSTM(units=50, return_sequences=True))\n",
    "model.add(Dropout(0.2))\n",
    "model.add(LSTM(units=50, return_sequences=True))\n",
    "model.add(Dropout(0.2))\n",
    "model.add(LSTM(units=1)) # Prediction of the next closing value\n",
    "\n",
    "model.compile(optimizer=\"adam\", loss=\"mean_squared_error\")\n",
    "\n",
    "model.fit(x_train, y_train, epochs=25, batch_size=32)"
   ]
  },
  {
   "cell_type": "markdown",
   "id": "84113123",
   "metadata": {},
   "source": [
    "# Test The Model Accuracy on Existing Data"
   ]
  },
  {
   "cell_type": "code",
   "execution_count": 96,
   "id": "9b139052",
   "metadata": {},
   "outputs": [],
   "source": [
    "# Load Test Data\n",
    "test_start= dt.datetime(2021,1,1)\n",
    "test_end= dt.datetime.now()"
   ]
  },
  {
   "cell_type": "code",
   "execution_count": 97,
   "id": "bc495a3a",
   "metadata": {},
   "outputs": [],
   "source": [
    "test_data= web.DataReader(company, \"yahoo\", test_start, test_end)"
   ]
  },
  {
   "cell_type": "code",
   "execution_count": 98,
   "id": "141b3407",
   "metadata": {},
   "outputs": [
    {
     "data": {
      "text/html": [
       "<div>\n",
       "<style scoped>\n",
       "    .dataframe tbody tr th:only-of-type {\n",
       "        vertical-align: middle;\n",
       "    }\n",
       "\n",
       "    .dataframe tbody tr th {\n",
       "        vertical-align: top;\n",
       "    }\n",
       "\n",
       "    .dataframe thead th {\n",
       "        text-align: right;\n",
       "    }\n",
       "</style>\n",
       "<table border=\"1\" class=\"dataframe\">\n",
       "  <thead>\n",
       "    <tr style=\"text-align: right;\">\n",
       "      <th></th>\n",
       "      <th>High</th>\n",
       "      <th>Low</th>\n",
       "      <th>Open</th>\n",
       "      <th>Close</th>\n",
       "      <th>Volume</th>\n",
       "      <th>Adj Close</th>\n",
       "    </tr>\n",
       "    <tr>\n",
       "      <th>Date</th>\n",
       "      <th></th>\n",
       "      <th></th>\n",
       "      <th></th>\n",
       "      <th></th>\n",
       "      <th></th>\n",
       "      <th></th>\n",
       "    </tr>\n",
       "  </thead>\n",
       "  <tbody>\n",
       "    <tr>\n",
       "      <th>2021-09-03</th>\n",
       "      <td>377.160004</td>\n",
       "      <td>373.109985</td>\n",
       "      <td>374.750000</td>\n",
       "      <td>376.260010</td>\n",
       "      <td>7509600</td>\n",
       "      <td>376.260010</td>\n",
       "    </tr>\n",
       "    <tr>\n",
       "      <th>2021-09-07</th>\n",
       "      <td>382.959991</td>\n",
       "      <td>373.149994</td>\n",
       "      <td>375.880005</td>\n",
       "      <td>382.179993</td>\n",
       "      <td>10793800</td>\n",
       "      <td>382.179993</td>\n",
       "    </tr>\n",
       "    <tr>\n",
       "      <th>2021-09-08</th>\n",
       "      <td>380.869995</td>\n",
       "      <td>374.790009</td>\n",
       "      <td>380.160004</td>\n",
       "      <td>377.570007</td>\n",
       "      <td>11067200</td>\n",
       "      <td>377.570007</td>\n",
       "    </tr>\n",
       "    <tr>\n",
       "      <th>2021-09-09</th>\n",
       "      <td>379.829987</td>\n",
       "      <td>376.570007</td>\n",
       "      <td>377.640015</td>\n",
       "      <td>378.000000</td>\n",
       "      <td>9098900</td>\n",
       "      <td>378.000000</td>\n",
       "    </tr>\n",
       "    <tr>\n",
       "      <th>2021-09-10</th>\n",
       "      <td>383.790009</td>\n",
       "      <td>378.260010</td>\n",
       "      <td>381.359985</td>\n",
       "      <td>378.690002</td>\n",
       "      <td>11549600</td>\n",
       "      <td>378.690002</td>\n",
       "    </tr>\n",
       "  </tbody>\n",
       "</table>\n",
       "</div>"
      ],
      "text/plain": [
       "                  High         Low        Open       Close    Volume  \\\n",
       "Date                                                                   \n",
       "2021-09-03  377.160004  373.109985  374.750000  376.260010   7509600   \n",
       "2021-09-07  382.959991  373.149994  375.880005  382.179993  10793800   \n",
       "2021-09-08  380.869995  374.790009  380.160004  377.570007  11067200   \n",
       "2021-09-09  379.829987  376.570007  377.640015  378.000000   9098900   \n",
       "2021-09-10  383.790009  378.260010  381.359985  378.690002  11549600   \n",
       "\n",
       "             Adj Close  \n",
       "Date                    \n",
       "2021-09-03  376.260010  \n",
       "2021-09-07  382.179993  \n",
       "2021-09-08  377.570007  \n",
       "2021-09-09  378.000000  \n",
       "2021-09-10  378.690002  "
      ]
     },
     "execution_count": 98,
     "metadata": {},
     "output_type": "execute_result"
    }
   ],
   "source": [
    "test_data.head()"
   ]
  },
  {
   "cell_type": "code",
   "execution_count": 99,
   "id": "1bdd4b69",
   "metadata": {},
   "outputs": [],
   "source": [
    "actual_prices= test_data[\"Close\"].values"
   ]
  },
  {
   "cell_type": "code",
   "execution_count": 100,
   "id": "46cca058",
   "metadata": {},
   "outputs": [],
   "source": [
    "total_dataset= pd.concat((data[\"Close\"], test_data[\"Close\"]), axis=0)"
   ]
  },
  {
   "cell_type": "code",
   "execution_count": 101,
   "id": "28b49ddf",
   "metadata": {},
   "outputs": [],
   "source": [
    "model_inputs= total_dataset[len(total_dataset) - len(test_data) - pred_days:].values"
   ]
  },
  {
   "cell_type": "code",
   "execution_count": 102,
   "id": "4f9d0bdc",
   "metadata": {},
   "outputs": [],
   "source": [
    "model_inputs= model_inputs.reshape(-1, 1)"
   ]
  },
  {
   "cell_type": "code",
   "execution_count": 103,
   "id": "217a0735",
   "metadata": {},
   "outputs": [],
   "source": [
    "model_inputs= scaler.transform(model_inputs)"
   ]
  },
  {
   "cell_type": "markdown",
   "id": "377c7e89",
   "metadata": {},
   "source": [
    "# Make Predictions on Test Data"
   ]
  },
  {
   "cell_type": "code",
   "execution_count": 104,
   "id": "d6102628",
   "metadata": {},
   "outputs": [],
   "source": [
    "x_test= []"
   ]
  },
  {
   "cell_type": "code",
   "execution_count": 105,
   "id": "022b07ec",
   "metadata": {},
   "outputs": [],
   "source": [
    "for x in range(pred_days, len(model_inputs)):\n",
    "    x_test.append(model_inputs[x - pred_days : x, 0])\n",
    "\n",
    "x_test= np.array(x_test)\n",
    "x_test= np.reshape(x_test, (x_test.shape[0], x_test.shape[1], 1))\n",
    "\n",
    "pred_prices= model.predict(x_test)\n",
    "pred_prices= scaler.inverse_transform(pred_prices)"
   ]
  },
  {
   "cell_type": "markdown",
   "id": "4d63446d",
   "metadata": {},
   "source": [
    "# Plot The Test Predictions"
   ]
  },
  {
   "cell_type": "code",
   "execution_count": 106,
   "id": "9779b7c8",
   "metadata": {},
   "outputs": [
    {
     "data": {
      "image/png": "[encoded data removed]",
      "text/plain": [
       "<Figure size 432x288 with 1 Axes>"
      ]
     },
     "metadata": {
      "needs_background": "light"
     },
     "output_type": "display_data"
    }
   ],
   "source": [
    "plt.plot(actual_prices, color=\"green\", label= f\"Actual {company} Price\")\n",
    "plt.plot(pred_prices, color= \"blue\", label= f\"Predicted {company} Price\")\n",
    "plt.title(f\"{company} Share Price\")\n",
    "plt.xlabel(\"Time\")\n",
    "plt.ylabel(f\"{company} Share Price\")\n",
    "plt.legend()\n",
    "plt.show()"
   ]
  },
  {
   "cell_type": "markdown",
   "id": "a449f7a9",
   "metadata": {},
   "source": [
    "# Predict Next Day"
   ]
  },
  {
   "cell_type": "code",
   "execution_count": 111,
   "id": "3f51e7bc",
   "metadata": {},
   "outputs": [],
   "source": [
    "real_data= [model_inputs[len(model_inputs) - pred_days: len(model_inputs+1), 0]]\n",
    "real_data= np.array(real_data)\n",
    "real_data= np.reshape(real_data, (real_data.shape[0], real_data.shape[1], 1))"
   ]
  },
  {
   "cell_type": "code",
   "execution_count": 112,
   "id": "b2fec23b",
   "metadata": {},
   "outputs": [
    {
     "name": "stdout",
     "output_type": "stream",
     "text": [
      "Prediction: [[170.61542]]\n"
     ]
    }
   ],
   "source": [
    "prediction= model.predict(real_data)\n",
    "prediction= scaler.inverse_transform(prediction)\n",
    "print(f\"Prediction: {prediction}\")"
   ]
  },
  {
   "cell_type": "code",
   "execution_count": null,
   "id": "b01d8cf9",
   "metadata": {},
   "outputs": [],
   "source": []
  }
 ],
 "metadata": {
  "kernelspec": {
   "display_name": "Python 3 (ipykernel)",
   "language": "python",
   "name": "python3"
  },
  "language_info": {
   "codemirror_mode": {
    "name": "ipython",
    "version": 3
   },
   "file_extension": ".py",
   "mimetype": "text/x-python",
   "name": "python",
   "nbconvert_exporter": "python",
   "pygments_lexer": "ipython3",
   "version": "3.9.7"
  }
 },
 "nbformat": 4,
 "nbformat_minor": 5
}
