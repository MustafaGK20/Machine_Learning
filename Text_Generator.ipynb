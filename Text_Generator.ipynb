{
 "cells": [
  {
   "cell_type": "code",
   "execution_count": 95,
   "id": "6866a060",
   "metadata": {},
   "outputs": [],
   "source": [
    "import random\n",
    "import numpy as np\n",
    "import tensorflow as tf\n",
    "from tensorflow.keras.models import Sequential\n",
    "from tensorflow.keras.layers import LSTM, Dense, Activation\n",
    "from tensorflow.keras.optimizers import RMSprop"
   ]
  },
  {
   "cell_type": "code",
   "execution_count": 96,
   "id": "b00d7679",
   "metadata": {},
   "outputs": [],
   "source": [
    "file_path = tf.keras.utils.get_file(\"shakespeare.txt\", \"https://storage.googleapis.com/download.tensorflow.org/data/shakespeare.txt\")\n",
    "text = open(file_path, 'rb').read().decode(encoding='utf-8')"
   ]
  },
  {
   "cell_type": "code",
   "execution_count": 97,
   "id": "925201ad",
   "metadata": {},
   "outputs": [
    {
     "data": {
      "text/plain": [
       "1115394"
      ]
     },
     "execution_count": 97,
     "metadata": {},
     "output_type": "execute_result"
    }
   ],
   "source": [
    "len(text)"
   ]
  },
  {
   "cell_type": "code",
   "execution_count": 98,
   "id": "aeed37bc",
   "metadata": {},
   "outputs": [],
   "source": [
    "characters = sorted(set(text))"
   ]
  },
  {
   "cell_type": "code",
   "execution_count": 99,
   "id": "3211e57f",
   "metadata": {},
   "outputs": [
    {
     "data": {
      "text/plain": [
       "65"
      ]
     },
     "execution_count": 99,
     "metadata": {},
     "output_type": "execute_result"
    }
   ],
   "source": [
    "len(characters)"
   ]
  },
  {
   "cell_type": "code",
   "execution_count": 100,
   "id": "94dc1609",
   "metadata": {},
   "outputs": [],
   "source": [
    "char_to_index = dict((c, i) for i, c in enumerate(characters))"
   ]
  },
  {
   "cell_type": "code",
   "execution_count": 101,
   "id": "639115fa",
   "metadata": {
    "scrolled": true
   },
   "outputs": [
    {
     "data": {
      "text/plain": [
       "{'\\n': 0,\n",
       " ' ': 1,\n",
       " '!': 2,\n",
       " '$': 3,\n",
       " '&': 4,\n",
       " \"'\": 5,\n",
       " ',': 6,\n",
       " '-': 7,\n",
       " '.': 8,\n",
       " '3': 9,\n",
       " ':': 10,\n",
       " ';': 11,\n",
       " '?': 12,\n",
       " 'A': 13,\n",
       " 'B': 14,\n",
       " 'C': 15,\n",
       " 'D': 16,\n",
       " 'E': 17,\n",
       " 'F': 18,\n",
       " 'G': 19,\n",
       " 'H': 20,\n",
       " 'I': 21,\n",
       " 'J': 22,\n",
       " 'K': 23,\n",
       " 'L': 24,\n",
       " 'M': 25,\n",
       " 'N': 26,\n",
       " 'O': 27,\n",
       " 'P': 28,\n",
       " 'Q': 29,\n",
       " 'R': 30,\n",
       " 'S': 31,\n",
       " 'T': 32,\n",
       " 'U': 33,\n",
       " 'V': 34,\n",
       " 'W': 35,\n",
       " 'X': 36,\n",
       " 'Y': 37,\n",
       " 'Z': 38,\n",
       " 'a': 39,\n",
       " 'b': 40,\n",
       " 'c': 41,\n",
       " 'd': 42,\n",
       " 'e': 43,\n",
       " 'f': 44,\n",
       " 'g': 45,\n",
       " 'h': 46,\n",
       " 'i': 47,\n",
       " 'j': 48,\n",
       " 'k': 49,\n",
       " 'l': 50,\n",
       " 'm': 51,\n",
       " 'n': 52,\n",
       " 'o': 53,\n",
       " 'p': 54,\n",
       " 'q': 55,\n",
       " 'r': 56,\n",
       " 's': 57,\n",
       " 't': 58,\n",
       " 'u': 59,\n",
       " 'v': 60,\n",
       " 'w': 61,\n",
       " 'x': 62,\n",
       " 'y': 63,\n",
       " 'z': 64}"
      ]
     },
     "execution_count": 101,
     "metadata": {},
     "output_type": "execute_result"
    }
   ],
   "source": [
    "char_to_index"
   ]
  },
  {
   "cell_type": "code",
   "execution_count": 102,
   "id": "925087ba",
   "metadata": {},
   "outputs": [],
   "source": [
    "index_to_char = dict((i, c) for i, c in enumerate(characters))"
   ]
  },
  {
   "cell_type": "code",
   "execution_count": 103,
   "id": "0277faf2",
   "metadata": {
    "scrolled": true
   },
   "outputs": [
    {
     "data": {
      "text/plain": [
       "{0: '\\n',\n",
       " 1: ' ',\n",
       " 2: '!',\n",
       " 3: '$',\n",
       " 4: '&',\n",
       " 5: \"'\",\n",
       " 6: ',',\n",
       " 7: '-',\n",
       " 8: '.',\n",
       " 9: '3',\n",
       " 10: ':',\n",
       " 11: ';',\n",
       " 12: '?',\n",
       " 13: 'A',\n",
       " 14: 'B',\n",
       " 15: 'C',\n",
       " 16: 'D',\n",
       " 17: 'E',\n",
       " 18: 'F',\n",
       " 19: 'G',\n",
       " 20: 'H',\n",
       " 21: 'I',\n",
       " 22: 'J',\n",
       " 23: 'K',\n",
       " 24: 'L',\n",
       " 25: 'M',\n",
       " 26: 'N',\n",
       " 27: 'O',\n",
       " 28: 'P',\n",
       " 29: 'Q',\n",
       " 30: 'R',\n",
       " 31: 'S',\n",
       " 32: 'T',\n",
       " 33: 'U',\n",
       " 34: 'V',\n",
       " 35: 'W',\n",
       " 36: 'X',\n",
       " 37: 'Y',\n",
       " 38: 'Z',\n",
       " 39: 'a',\n",
       " 40: 'b',\n",
       " 41: 'c',\n",
       " 42: 'd',\n",
       " 43: 'e',\n",
       " 44: 'f',\n",
       " 45: 'g',\n",
       " 46: 'h',\n",
       " 47: 'i',\n",
       " 48: 'j',\n",
       " 49: 'k',\n",
       " 50: 'l',\n",
       " 51: 'm',\n",
       " 52: 'n',\n",
       " 53: 'o',\n",
       " 54: 'p',\n",
       " 55: 'q',\n",
       " 56: 'r',\n",
       " 57: 's',\n",
       " 58: 't',\n",
       " 59: 'u',\n",
       " 60: 'v',\n",
       " 61: 'w',\n",
       " 62: 'x',\n",
       " 63: 'y',\n",
       " 64: 'z'}"
      ]
     },
     "execution_count": 103,
     "metadata": {},
     "output_type": "execute_result"
    }
   ],
   "source": [
    "index_to_char"
   ]
  },
  {
   "cell_type": "code",
   "execution_count": 117,
   "id": "18c1273b",
   "metadata": {},
   "outputs": [],
   "source": [
    "seq_length = 40\n",
    "step_size = 2\n",
    "\n",
    "sentences = []\n",
    "next_characters = []\n",
    "\n",
    "for i in range(0, len(text) - seq_length, step_size):\n",
    "    \n",
    "    sentences.append(text[i: i+seq_length])\n",
    "    next_characters.append(text[i+seq_length])"
   ]
  },
  {
   "cell_type": "code",
   "execution_count": 118,
   "id": "236dc5de",
   "metadata": {},
   "outputs": [],
   "source": [
    "x = np.zeros((len(sentences), seq_length, len(characters)), dtype=np.bool8)\n",
    "y = np.zeros((len(sentences), len(characters)), dtype=np.bool8)"
   ]
  },
  {
   "cell_type": "code",
   "execution_count": 119,
   "id": "2c1e629d",
   "metadata": {},
   "outputs": [],
   "source": [
    "for i, sentence in enumerate(sentences):\n",
    "    \n",
    "    for t, character in enumerate(sentence):\n",
    "        x[i, t, char_to_index[character]] = 1\n",
    "    \n",
    "    y[i, char_to_index[next_characters[i]]] = 1"
   ]
  },
  {
   "cell_type": "code",
   "execution_count": 120,
   "id": "68a0c693",
   "metadata": {},
   "outputs": [
    {
     "name": "stdout",
     "output_type": "stream",
     "text": [
      "Epoch 1/5\n",
      "4357/4357 [==============================] - 109s 25ms/step - loss: 1.8835\n",
      "Epoch 2/5\n",
      "4357/4357 [==============================] - 112s 26ms/step - loss: 1.6674\n",
      "Epoch 3/5\n",
      "4357/4357 [==============================] - 114s 26ms/step - loss: 1.6238\n",
      "Epoch 4/5\n",
      "4357/4357 [==============================] - 114s 26ms/step - loss: 1.6022\n",
      "Epoch 5/5\n",
      "4357/4357 [==============================] - 114s 26ms/step - loss: 1.5900\n"
     ]
    },
    {
     "data": {
      "text/plain": [
       "<keras.callbacks.History at 0x17d53fe3ca0>"
      ]
     },
     "execution_count": 120,
     "metadata": {},
     "output_type": "execute_result"
    }
   ],
   "source": [
    "model = Sequential()\n",
    "\n",
    "model.add(LSTM(64, input_shape= (seq_length, len(characters))))\n",
    "model.add(Dense(len(characters)))\n",
    "model.add(Activation(\"softmax\"))\n",
    "\n",
    "model.compile(loss = \"categorical_crossentropy\",\n",
    "              optimizer = RMSprop(learning_rate= 0.01))\n",
    "\n",
    "model.fit(x, y, batch_size=128, epochs=5)"
   ]
  },
  {
   "cell_type": "code",
   "execution_count": 121,
   "id": "ccd2a5a8",
   "metadata": {},
   "outputs": [],
   "source": [
    "#model.save(\"Text_Generator.model\")"
   ]
  },
  {
   "cell_type": "code",
   "execution_count": 122,
   "id": "8a121a55",
   "metadata": {},
   "outputs": [],
   "source": [
    "#model = tf.keras.models.load_model(\"Text_Generator.model\")"
   ]
  },
  {
   "cell_type": "code",
   "execution_count": 123,
   "id": "8b598e66",
   "metadata": {},
   "outputs": [],
   "source": [
    "def sample(preds, temperature=1.0):\n",
    "    \n",
    "    preds= np.asarray(preds).astype(\"float64\")\n",
    "    preds= np.log(preds) / temperature\n",
    "    exp_preds= np.exp(preds)\n",
    "    preds= exp_preds / np.sum(exp_preds)\n",
    "    probas= np.random.multinomial(1, preds, 1)\n",
    "    return np.argmax(probas)"
   ]
  },
  {
   "cell_type": "code",
   "execution_count": 124,
   "id": "9a6ca8a0",
   "metadata": {},
   "outputs": [],
   "source": [
    "def generate_text(length, temperature):\n",
    "    start_index = random.randint(0, len(text) - seq_length - 1)\n",
    "    generated = ''\n",
    "    sentence = text[start_index: start_index + seq_length]\n",
    "    generated += sentence\n",
    "    \n",
    "    for i in range(length):\n",
    "        x_predictions = np.zeros((1, seq_length, len(characters)))\n",
    "        \n",
    "        for t, char in enumerate(sentence):\n",
    "            x_predictions[0, t, char_to_index[char]] = 1\n",
    "\n",
    "        predictions = model.predict(x_predictions, verbose=0)[0]\n",
    "        next_index = sample(predictions,\n",
    "                            temperature)\n",
    "        next_character = index_to_char[next_index]\n",
    "\n",
    "        generated += next_character\n",
    "        sentence = sentence[1:] + next_character\n",
    "        \n",
    "    return generated"
   ]
  },
  {
   "cell_type": "code",
   "execution_count": 125,
   "id": "554df3ab",
   "metadata": {},
   "outputs": [
    {
     "name": "stdout",
     "output_type": "stream",
     "text": [
      "----------0.2----------\n",
      " sepulchre!'\n",
      "With this, we charged against the command thee the counter thee the man thee the pray\n",
      "the country's hand the senter the commander\n",
      "That the country the brother have the country's the shame.\n",
      "\n",
      "CORIOLANUS:\n",
      "What the man that the man that the man thee the country's that the man,\n",
      "And the country the with the cause the man thee and s\n"
     ]
    }
   ],
   "source": [
    "print(\"----------0.2----------\")\n",
    "print(generate_text(300, 0.2))"
   ]
  },
  {
   "cell_type": "code",
   "execution_count": 126,
   "id": "3427e7a0",
   "metadata": {},
   "outputs": [
    {
     "name": "stdout",
     "output_type": "stream",
     "text": [
      "----------0.4----------\n",
      "INCENTIO:\n",
      "\n",
      "LUCIO:\n",
      "'Faith, my lord. I spout thee men a commise\n",
      "And state his that his be an the father,\n",
      "Of the man to the strengther worth and the country,\n",
      "That dishon so losg be strange, and that have some than the man and the will thee than other.\n",
      "\n",
      "BUCKINGHAM:\n",
      "And that that I that many the son I will be the\n",
      "receive the wife you that what\n"
     ]
    }
   ],
   "source": [
    "print(\"----------0.4----------\")\n",
    "print(generate_text(300, 0.4))"
   ]
  },
  {
   "cell_type": "code",
   "execution_count": 127,
   "id": "4582a416",
   "metadata": {},
   "outputs": [
    {
     "name": "stdout",
     "output_type": "stream",
     "text": [
      "----------0.6----------\n",
      " soon\n",
      "hot, my very lips might freeze to the om it\n",
      "Whose of I brother not; for fellowing brother\n",
      "thour lait; and 'low thee hope me was my gurse\n",
      "hardet so comes mare now many sweeth.\n",
      "But not this repore tell you Romeo, you live that\n",
      "Or king that shall be on, what is hence.\n",
      "\n",
      "GREMIONE:\n",
      "Go therefore is them then a\n",
      "fine, the purpost the holy on\n"
     ]
    }
   ],
   "source": [
    "print(\"----------0.6----------\")\n",
    "print(generate_text(300, 0.8))"
   ]
  },
  {
   "cell_type": "code",
   "execution_count": 128,
   "id": "6569f5b9",
   "metadata": {},
   "outputs": [
    {
     "name": "stdout",
     "output_type": "stream",
     "text": [
      "----------0.8----------\n",
      "fty in our commonwealth:\n",
      "All must be ever have so pare here time;\n",
      "And the father.\n",
      "\n",
      "Servose,--true?'\n",
      "\n",
      "OLrigE:\n",
      "Them than you never incomets, I will ours in Marenat\n",
      "In heal my wrathers of indeal of heaven\n",
      "our handed viot-breat thee at marross,\n",
      "Rou brother to sake as I came to him thee indeat\n",
      "Thee seeminny where be only our from now.\n",
      "\n",
      "LUCENTI\n"
     ]
    }
   ],
   "source": [
    "print(\"----------0.8----------\")\n",
    "print(generate_text(300, 0.8))"
   ]
  },
  {
   "cell_type": "code",
   "execution_count": 129,
   "id": "5fa1839c",
   "metadata": {},
   "outputs": [
    {
     "name": "stdout",
     "output_type": "stream",
     "text": [
      "----------1----------\n",
      "blessed, blessed night! I am afeard.\n",
      "Beinger. and accemphed: you tell the dost;\n",
      "And is wor have way set notering himself.\n",
      "For he as yhowreties he have cannot this man,\n",
      "And follivenes indeed wot you. \n",
      "LUCINIUS:\n",
      "thou Clapeip nog more clain!\n",
      "\n",
      "ARIAR:\n",
      "Glander.\n",
      "\n",
      "DUKE VINCENTIO:\n",
      "Thou art alongen untovertal, you loves that-\n",
      "Whom me weepes in ang \n"
     ]
    }
   ],
   "source": [
    "print(\"----------1----------\")\n",
    "print(generate_text(300, 1))"
   ]
  },
  {
   "cell_type": "code",
   "execution_count": null,
   "id": "28c4d293",
   "metadata": {},
   "outputs": [],
   "source": []
  }
 ],
 "metadata": {
  "kernelspec": {
   "display_name": "Python 3 (ipykernel)",
   "language": "python",
   "name": "python3"
  },
  "language_info": {
   "codemirror_mode": {
    "name": "ipython",
    "version": 3
   },
   "file_extension": ".py",
   "mimetype": "text/x-python",
   "name": "python",
   "nbconvert_exporter": "python",
   "pygments_lexer": "ipython3",
   "version": "3.9.7"
  }
 },
 "nbformat": 4,
 "nbformat_minor": 5
}
