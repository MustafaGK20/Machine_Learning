{
 "cells": [
  {
   "cell_type": "code",
   "execution_count": 464,
   "id": "6422f948",
   "metadata": {},
   "outputs": [],
   "source": [
    "import matplotlib.pyplot as plt\n",
    "import pandas as pd\n",
    "import os\n",
    "import re\n",
    "import shutil\n",
    "import string\n",
    "import tensorflow as tf\n",
    "\n",
    "from tensorflow.keras import layers,losses"
   ]
  },
  {
   "cell_type": "code",
   "execution_count": 465,
   "id": "e1bbdbbd",
   "metadata": {},
   "outputs": [],
   "source": [
    "url = \"https://console.cloud.google.com/marketplace/details/stack-exchange/stack-overflow_16k.tar.gz\""
   ]
  },
  {
   "cell_type": "code",
   "execution_count": 466,
   "id": "11d7baa6",
   "metadata": {},
   "outputs": [],
   "source": [
    "dataset = tf.keras.utils.get_file(\"stack_overflow_16k\",\n",
    "                                  url,\n",
    "                                  untar=True,\n",
    "                                  cache_dir=\".\",\n",
    "                                  cache_subdir=\"\")\n",
    "\n",
    "dataset_dir = os.path.join(os.path.dirname(dataset), \"stack_overflow\")"
   ]
  },
  {
   "cell_type": "code",
   "execution_count": 467,
   "id": "3b8ac01f",
   "metadata": {},
   "outputs": [
    {
     "data": {
      "text/plain": [
       "['.ipynb_checkpoints',\n",
       " 'aclImdb',\n",
       " 'aclImdb_v1.tar.gz',\n",
       " 'auto-mpg.data',\n",
       " 'Basic_Image_Classification.ipynb',\n",
       " 'Basic_Text_Classification.ipynb',\n",
       " 'dnn_model',\n",
       " 'README.md',\n",
       " 'Regression.ipynb',\n",
       " 'stack_overflow_16k.tar.gz',\n",
       " 'test',\n",
       " 'Text_Classification.ipynb',\n",
       " 'train']"
      ]
     },
     "execution_count": 467,
     "metadata": {},
     "output_type": "execute_result"
    }
   ],
   "source": [
    "os.listdir()"
   ]
  },
  {
   "cell_type": "code",
   "execution_count": 468,
   "id": "cda87cb4",
   "metadata": {},
   "outputs": [
    {
     "data": {
      "text/plain": [
       "['csharp', 'java', 'javascript', 'python']"
      ]
     },
     "execution_count": 468,
     "metadata": {},
     "output_type": "execute_result"
    }
   ],
   "source": [
    "train_dir = os.path.join(\"train\")\n",
    "os.listdir(train_dir)"
   ]
  },
  {
   "cell_type": "code",
   "execution_count": 469,
   "id": "7037ab98",
   "metadata": {},
   "outputs": [
    {
     "name": "stdout",
     "output_type": "stream",
     "text": [
      "\"how to print to screen after redirect print to file, in blank? i have a code use print() to write in file:..with open('test.xml', \"\"w+\"\") as outfile:.    sys.stdout = outfile...now i want write to console after this code, how can i do this?\"\n",
      "\n"
     ]
    }
   ],
   "source": [
    "python_file = os.path.join(train_dir, \"python/1101.txt\")\n",
    "\n",
    "with open(python_file) as p:\n",
    "    print(p.read())"
   ]
  },
  {
   "cell_type": "code",
   "execution_count": 470,
   "id": "3ce0a862",
   "metadata": {},
   "outputs": [
    {
     "name": "stdout",
     "output_type": "stream",
     "text": [
      "Found 8000 files belonging to 4 classes.\n",
      "Using 6400 files for training.\n"
     ]
    }
   ],
   "source": [
    "# Creating a training set\n",
    "batch_size= 32\n",
    "seed= 42\n",
    "\n",
    "raw_train_ds = tf.keras.utils.text_dataset_from_directory(\"train\",\n",
    "                                                          batch_size= batch_size,\n",
    "                                                          validation_split= 0.2,\n",
    "                                                          subset= \"training\",\n",
    "                                                          seed= seed)"
   ]
  },
  {
   "cell_type": "code",
   "execution_count": 471,
   "id": "c06bd8ee",
   "metadata": {
    "scrolled": true
   },
   "outputs": [
    {
     "name": "stdout",
     "output_type": "stream",
     "text": [
      "Review b'\"my tester is going to the wrong constructor i am new to programming so if i ask a question that can be easily fixed, please forgive me. my program has a tester class with a main. when i send that to my regularpolygon class, it sends it to the wrong constructor. i have two constructors. 1 without perameters..public regularpolygon().    {.       mynumsides = 5;.       mysidelength = 30;.    }//end default constructor...and my second, with perameters. ..public regularpolygon(int numsides, double sidelength).    {.        mynumsides = numsides;.        mysidelength = sidelength;.    }// end constructor...in my tester class i have these two lines:..regularpolygon shape = new regularpolygon(numsides, sidelength);.        shape.menu();...numsides and sidelength were declared and initialized earlier in the testing class...so what i want to happen, is the tester class sends numsides and sidelength to the second constructor and use it in that class. but it only uses the default constructor, which therefor ruins the whole rest of the program. can somebody help me?..for those of you who want to see more of my code: here you go..public double vertexangle().    {.        system.out.println(\"\"the vertex angle method: \"\" + mynumsides);// prints out 5.        system.out.println(\"\"the vertex angle method: \"\" + mysidelength); // prints out 30..        double vertexangle;.        vertexangle = ((mynumsides - 2.0) / mynumsides) * 180.0;.        return vertexangle;.    }//end method vertexangle..public void menu().{.    system.out.println(mynumsides); // prints out what the user puts in.    system.out.println(mysidelength); // prints out what the user puts in.    gotographic();.    calcr(mynumsides, mysidelength);.    calcr(mynumsides, mysidelength);.    print(); .}// end menu...this is my entire tester class:..public static void main(string[] arg).{.    int numsides;.    double sidelength;.    scanner keyboard = new scanner(system.in);..    system.out.println(\"\"welcome to the regular polygon program!\"\");.    system.out.println();..    system.out.print(\"\"enter the number of sides of the polygon ==&gt; \"\");.    numsides = keyboard.nextint();.    system.out.println();..    system.out.print(\"\"enter the side length of each side ==&gt; \"\");.    sidelength = keyboard.nextdouble();.    system.out.println();..    regularpolygon shape = new regularpolygon(numsides, sidelength);.    shape.menu();.}//end main...for testing it i sent it numsides 4 and sidelength 100.\"\\n'\n",
      "Label 1\n",
      "Review b'\"blank code slow skin detection this code changes the color space to lab and using a threshold finds the skin area of an image. but it\\'s ridiculously slow. i don\\'t know how to make it faster ?    ..from colormath.color_objects import *..def skindetection(img, treshold=80, color=[255,20,147]):..    print img.shape.    res=img.copy().    for x in range(img.shape[0]):.        for y in range(img.shape[1]):.            rgbimg=rgbcolor(img[x,y,0],img[x,y,1],img[x,y,2]).            labimg=rgbimg.convert_to(\\'lab\\', debug=false).            if (labimg.lab_l &gt; treshold):.                res[x,y,:]=color.            else: .                res[x,y,:]=img[x,y,:]..    return res\"\\n'\n",
      "Label 3\n",
      "Review b'\"option and validation in blank i want to add a new option on my system where i want to add two text files, both rental.txt and customer.txt. inside each text are id numbers of the customer, the videotape they need and the price...i want to place it as an option on my code. right now i have:...add customer.rent return.view list.search.exit...i want to add this as my sixth option. say for example i ordered a video, it would display the price and would let me confirm the price and if i am going to buy it or not...here is my current code:..  import blank.io.*;.    import blank.util.arraylist;.    import static blank.lang.system.out;..    public class rentalsystem{.    static bufferedreader input = new bufferedreader(new inputstreamreader(system.in));.    static file file = new file(\"\"file.txt\"\");.    static arraylist&lt;string&gt; list = new arraylist&lt;string&gt;();.    static int rows;..    public static void main(string[] args) throws exception{.        introduction();.        system.out.print(\"\"nn\"\");.        login();.        system.out.print(\"\"nnnnnnnnnnnnnnnnnnnnnn\"\");.        introduction();.        string repeat;.        do{.            loadfile();.            system.out.print(\"\"nwhat do you want to do?nn\"\");.            system.out.print(\"\"n                    - - - - - - - - - - - - - - - - - - - - - - -\"\");.            system.out.print(\"\"nn                    |     1. add customer    |   2. rent return |n\"\");.            system.out.print(\"\"n                    - - - - - - - - - - - - - - - - - - - - - - -\"\");.            system.out.print(\"\"nn                    |     3. view list       |   4. search      |n\"\");.            system.out.print(\"\"n                    - - - - - - - - - - - - - - - - - - - - - - -\"\");.            system.out.print(\"\"nn                                             |   5. exit        |n\"\");.            system.out.print(\"\"n                                              - - - - - - - - - -\"\");.            system.out.print(\"\"nnchoice:\"\");.            int choice = integer.parseint(input.readline());.            switch(choice){.                case 1:.                    writedata();.                    break;.                case 2:.                    rentdata();.                    break;.                case 3:.                    viewlist();.                    break;.                case 4:.                    search();.                    break;.                case 5:.                    system.out.println(\"\"goodbye!\"\");.                    system.exit(0);.                default:.                    system.out.print(\"\"invalid choice: \"\");.                    break;.            }.            system.out.print(\"\"ndo another task? [y/n] \"\");.            repeat = input.readline();.        }while(repeat.equals(\"\"y\"\"));..        if(repeat!=\"\"y\"\") system.out.println(\"\"ngoodbye!\"\");..    }..    public static void writedata() throws exception{.        system.out.print(\"\"nname: \"\");.        string cname = input.readline();.        system.out.print(\"\"address: \"\");.        string add = input.readline();.        system.out.print(\"\"phone no.: \"\");.        string pno = input.readline();.        system.out.print(\"\"rental amount: \"\");.        string ramount = input.readline();.        system.out.print(\"\"tapenumber: \"\");.        string tno = input.readline();.        system.out.print(\"\"title: \"\");.        string title = input.readline();.        system.out.print(\"\"date borrowed: \"\");.        string dborrowed = input.readline();.        system.out.print(\"\"due date: \"\");.        string ddate = input.readline();.        createline(cname, add, pno, ramount,tno, title, dborrowed, ddate);.        rentdata();.    }..    public static void createline(string name, string address, string phone , string rental, string tapenumber, string title, string borrowed, string due) throws exception{.        filewriter fw = new filewriter(file, true);.        fw.write(\"\"nname: \"\"+name + \"\"naddress: \"\" + address +\"\"nphone no.: \"\"+ phone+\"\"nrentalamount: \"\"+rental+\"\"ntape no.: \"\"+ tapenumber+\"\"ntitle: \"\"+ title+\"\"ndate borrowed: \"\"+borrowed +\"\"ndue date: \"\"+ due+\"\":rn\"\");.        fw.close();.    }..    public static void loadfile() throws exception{.        try{.            list.clear();.            fileinputstream fstream = new fileinputstream(file);.            bufferedreader br = new bufferedreader(new inputstreamreader(fstream));.            rows = 0;.            while( br.ready()).            {.                list.add(br.readline());.                rows++;.            }.            br.close();.        } catch(exception e){.            system.out.println(\"\"list not yet loaded.\"\");.        }.    }..    public static void viewlist(){.        system.out.print(\"\"n~ ~ ~ ~ ~ ~ ~ ~ ~ ~ ~\"\");.        system.out.print(\"\" |list of all costumers|\"\");.        system.out.print(\"\"~ ~ ~ ~ ~ ~ ~ ~ ~ ~ ~\"\");.        for(int i = 0; i &lt;rows; i++){.            system.out.println(list.get(i));.        }.    }.        public static void rentdata()throws exception.    {   system.out.print(\"\"n~ ~ ~ ~ ~ ~ ~ ~ ~ ~ ~\"\");.        system.out.print(\"\" |rent data list|\"\");.        system.out.print(\"\"~ ~ ~ ~ ~ ~ ~ ~ ~ ~ ~\"\");.        system.out.print(\"\"nenter customer name: \"\");.        string cname = input.readline();.        system.out.print(\"\"date borrowed: \"\");.        string dborrowed = input.readline();.        system.out.print(\"\"due date: \"\");.        string ddate = input.readline();.        system.out.print(\"\"return date: \"\");.        string rdate = input.readline();.        system.out.print(\"\"rent amount: \"\");.        string ramount = input.readline();..        system.out.print(\"\"you pay:\"\"+ramount);...    }.    public static void search()throws exception.    {   system.out.print(\"\"n~ ~ ~ ~ ~ ~ ~ ~ ~ ~ ~\"\");.        system.out.print(\"\" |search costumers|\"\");.        system.out.print(\"\"~ ~ ~ ~ ~ ~ ~ ~ ~ ~ ~\"\");.        system.out.print(\"\"nenter costumer name: \"\");.        string cname = input.readline();.        boolean found = false;..        for(int i=0; i &lt; rows; i++){.            string temp[] = list.get(i).split(\"\",\"\");..            if(cname.equals(temp[0])){.            system.out.println(\"\"search result:nyou are \"\" + temp[0] + \"\" from \"\" + temp[1] + \"\".\"\"+ temp[2] + \"\".\"\"+ temp[3] + \"\".\"\"+ temp[4] + \"\".\"\"+ temp[5] + \"\" is \"\" + temp[6] + \"\".\"\"+ temp[7] + \"\" is \"\" + temp[8] + \"\".\"\");.                found = true;.            }.        }..        if(!found){.            system.out.print(\"\"no results.\"\");.        }..    }..        public static boolean evaluate(string uname, string pass){.        if (uname.equals(\"\"admin\"\")&amp;&amp;pass.equals(\"\"12345\"\")) return true;.        else return false;.    }..    public static string login()throws exception{.        bufferedreader input=new bufferedreader(new inputstreamreader(system.in));.        int counter=0;.        do{.            system.out.print(\"\"username:\"\");.            string uname =input.readline();.            system.out.print(\"\"password:\"\");.            string pass =input.readline();..            boolean accept= evaluate(uname,pass);..            if(accept){.                break;.                }else{.                    system.out.println(\"\"incorrect username or password!\"\");.                    counter ++;.                    }.        }while(counter&lt;3);..            if(counter !=3) return \"\"login successful\"\";.            else return \"\"login failed\"\";.            }.        public static void introduction() throws exception{..        system.out.println(\"\"                  - - - - - - - - - - - - - - - - - - - - - - - - -\"\");.        system.out.println(\"\"                  !                  r e n t a l                  !\"\");.        system.out.println(\"\"                   ! ~ ~ ~ ~ ~ !  =================  ! ~ ~ ~ ~ ~ !\"\");.        system.out.println(\"\"                  !                  s y s t e m                  !\"\");.        system.out.println(\"\"                  - - - - - - - - - - - - - - - - - - - - - - - - -\"\");.        }..}\"\\n'\n",
      "Label 1\n",
      "Review b'\"exception: dynamic sql generation for the updatecommand is not supported against a selectcommand that does not return any key i dont know what is the problem this my code : ..string nomtable;..datatable listeetablissementtable = new datatable();.datatable listeinteretstable = new datatable();.dataset ds = new dataset();.sqldataadapter da;.sqlcommandbuilder cmdb;..private void listeinterets_click(object sender, eventargs e).{.    nomtable = \"\"listeinteretstable\"\";.    d.cnx.open();.    da = new sqldataadapter(\"\"select nome from offices\"\", d.cnx);.    ds = new dataset();.    da.fill(ds, nomtable);.    datagridview1.datasource = ds.tables[nomtable];.}..private void sauvgarder_click(object sender, eventargs e).{.    d.cnx.open();.    cmdb = new sqlcommandbuilder(da);.    da.update(ds, nomtable);.    d.cnx.close();.}\"\\n'\n",
      "Label 0\n"
     ]
    }
   ],
   "source": [
    "for text_batch, label_batch in raw_train_ds.take(1):\n",
    "    for i in range(4):\n",
    "        print(\"Review\", text_batch.numpy()[i])\n",
    "        print(\"Label\", label_batch.numpy()[i])"
   ]
  },
  {
   "cell_type": "code",
   "execution_count": 472,
   "id": "25e90fcc",
   "metadata": {},
   "outputs": [
    {
     "name": "stdout",
     "output_type": "stream",
     "text": [
      "Label 0 corresponds to csharp\n",
      "Label 1 corresponds to java\n",
      "Label 2 corresponds to javascript\n",
      "Label 3 corresponds to python\n"
     ]
    }
   ],
   "source": [
    "print(\"Label 0 corresponds to\", raw_train_ds.class_names[0])\n",
    "print(\"Label 1 corresponds to\", raw_train_ds.class_names[1])\n",
    "print(\"Label 2 corresponds to\", raw_train_ds.class_names[2])\n",
    "print(\"Label 3 corresponds to\", raw_train_ds.class_names[3])"
   ]
  },
  {
   "cell_type": "code",
   "execution_count": 473,
   "id": "0a97c810",
   "metadata": {},
   "outputs": [
    {
     "name": "stdout",
     "output_type": "stream",
     "text": [
      "Found 8000 files belonging to 4 classes.\n",
      "Using 1600 files for validation.\n"
     ]
    }
   ],
   "source": [
    "# Creating a validation set\n",
    "raw_val_ds = tf.keras.utils.text_dataset_from_directory(\n",
    "    'train',\n",
    "    shuffle= False,\n",
    "    batch_size=batch_size, \n",
    "    validation_split=0.2, \n",
    "    subset='validation', \n",
    "    seed=seed)"
   ]
  },
  {
   "cell_type": "code",
   "execution_count": 474,
   "id": "3ae72652",
   "metadata": {},
   "outputs": [
    {
     "name": "stdout",
     "output_type": "stream",
     "text": [
      "Found 8000 files belonging to 4 classes.\n"
     ]
    }
   ],
   "source": [
    "raw_test_ds = tf.keras.utils.text_dataset_from_directory(\n",
    "    'test', \n",
    "    batch_size=batch_size)"
   ]
  },
  {
   "cell_type": "code",
   "execution_count": 475,
   "id": "9ec03478",
   "metadata": {},
   "outputs": [],
   "source": [
    "def custom_standardization(input_data):\n",
    "    lowercase= tf.strings.lower(input_data)\n",
    "    stripped_html= tf.strings.regex_replace(lowercase, \"(\\'div\\')/{.}&\\n;\",' ')\n",
    "    return tf.strings.regex_replace(stripped_html,\n",
    "                                    '[%s]' % re.escape(string.punctuation),\n",
    "                                  '')"
   ]
  },
  {
   "cell_type": "code",
   "execution_count": 476,
   "id": "4f8ee116",
   "metadata": {},
   "outputs": [],
   "source": [
    "max_features = 10000\n",
    "sequence_length = 250\n",
    "\n",
    "vectorize_layer = layers.TextVectorization(\n",
    "    standardize=custom_standardization,\n",
    "    max_tokens=max_features,\n",
    "    output_mode='int',\n",
    "    output_sequence_length=sequence_length)"
   ]
  },
  {
   "cell_type": "code",
   "execution_count": 477,
   "id": "32d6e09f",
   "metadata": {},
   "outputs": [],
   "source": [
    "# Make a text-only dataset (without labels), then call adapt\n",
    "\n",
    "train_text = raw_train_ds.map(lambda x, y: x)\n",
    "vectorize_layer.adapt(train_text)"
   ]
  },
  {
   "cell_type": "code",
   "execution_count": 478,
   "id": "93540437",
   "metadata": {},
   "outputs": [],
   "source": [
    "def vectorize_text(text, label):\n",
    "    text = tf.expand_dims(text, -1)\n",
    "    return vectorize_layer(text), label"
   ]
  },
  {
   "cell_type": "code",
   "execution_count": 479,
   "id": "d3d6e18f",
   "metadata": {
    "scrolled": true
   },
   "outputs": [
    {
     "name": "stdout",
     "output_type": "stream",
     "text": [
      "Review tf.Tensor(b'\"set blank to quit on exception? i\\'m using blank 3..i\\'ve been looking around for an answer to this, but i haven\\'t found it yet. basically, i\\'m running several blank scripts into a game engine, and each script has its own entry point...i\\'d rather not add try: except blocks through all of my code, so i was wondering if it\\'s at all possible to tell blank to quit (or perhaps assign a custom function to that \"\"callback\"\") on finding its first error, regardless of where or what it found? ..currently, the game engine will continue after finding and hitting an error, making it more difficult than necessary to diagnose issues since running into one error may make a subsequent script not work (as it relies on variables that the error-ing script set, for example). any ideas? ..i know that i could redirect the console to a file to allow for easier scrolling, but just capturing the first error and stopping the game prematurely would be really useful...okay, a couple of extra bits of info - sorry for neglecting to say this. the engine i\\'m using (the blender game engine) is coded in c, so changing the source is more than i\\'d like to do.....after googling, it would appear that a similar question with a solid answer has been asked here, which is how to get the last raised exception. if i check the sys module for the presence of the last_value variable and it exists, then i can quit prematurely, as the console would have already printed out the error...thanks for the help.\"\\n', shape=(), dtype=string)\n",
      "Label python\n",
      "Vectorized review (<tf.Tensor: shape=(1, 250), dtype=int64, numpy=\n",
      "array([[ 107,   16,    4, 1138,   38,  184,   52,   47,   16,    1,  215,\n",
      "         416,  518,   12,   32,  181,    4,   13,   26,    3, 1414,  227,\n",
      "          11,  894,  627,   52,  309,  718,   16, 1272,  100,    5,  244,\n",
      "        1826,    8,  119,  223,   95,   96,  657,  858,    1,  797,   20,\n",
      "         125,  117,  559, 2280,  194,   73,    9,   23,   30,   49,    3,\n",
      "         114,  566,   10,   96,   59,   73,  206,    4,  412,   16,    4,\n",
      "        1138,   45, 1669,  600,    5,  696,   37,    4,   14,  850,   38,\n",
      "         966,   96,   98,   65, 2373,    9,  132,   45,   55,   11,  227,\n",
      "         403,    2,  244, 1826,   72,  534,  156,  966,    8, 7799,   32,\n",
      "          65,  469,   11,  182, 2332,  198, 1460,    4,    1, 1093,  447,\n",
      "         309,  100,   71,   65,  454,  109,    5, 3554,  223,   20,  139,\n",
      "          36,   11, 9038,   38,  233,   14,    2,    1,  223,  107,   12,\n",
      "         137,   76,  778,    3,  103,   14,    3,  177, 1852,    2,  332,\n",
      "           4,    5,   39,    4,  787,   12, 1319, 3573,   26,  106,    1,\n",
      "           2,   98,   65,    8, 2900,    2,  244,    1,   69,   33,  336,\n",
      "           1,    5, 1758,    9, 1157, 2528,    9,  568,  729,   12,    1,\n",
      "           4,  321,   13,    2, 1826,   52,   47,    2,    1,  244, 1826,\n",
      "           6, 2616,    7,  131,   49,  801,    2,  313,    6,  182,  198,\n",
      "         142,   48,    4,    1, 3958,   11,   69,  881,   14,    5,  522,\n",
      "         159,   21,    5, 1705,  181,   95,  215,  912,  101,   66,    6,\n",
      "          24,    4,   41,    2,  218, 2916,  184,   10,    3,  186,    2,\n",
      "        1358,  380,   12,    2, 9137,    9,    2,    1,  116,    8,   11,\n",
      "         756,   87,    3,   35, 1138,    1,   36,    2]], dtype=int64)>, <tf.Tensor: shape=(), dtype=int32, numpy=3>)\n"
     ]
    }
   ],
   "source": [
    "# retrieve a batch (of 32 reviews and labels) from the dataset\n",
    "\n",
    "text_batch, label_batch = next(iter(raw_train_ds))\n",
    "first_review, first_label = text_batch[0], label_batch[0]\n",
    "print(\"Review\", first_review)\n",
    "print(\"Label\", raw_train_ds.class_names[first_label])\n",
    "print(\"Vectorized review\", vectorize_text(first_review, first_label))"
   ]
  },
  {
   "cell_type": "code",
   "execution_count": 480,
   "id": "c0dec281",
   "metadata": {},
   "outputs": [
    {
     "name": "stdout",
     "output_type": "stream",
     "text": [
      "5190 --->  getdate\n",
      " 209 --->  cannot\n",
      "Vocabulary size: 10000\n"
     ]
    }
   ],
   "source": [
    "print(\"5190 ---> \",vectorize_layer.get_vocabulary()[5190])\n",
    "print(\" 209 ---> \",vectorize_layer.get_vocabulary()[209])\n",
    "print('Vocabulary size: {}'.format(len(vectorize_layer.get_vocabulary())))"
   ]
  },
  {
   "cell_type": "code",
   "execution_count": 481,
   "id": "c4472cba",
   "metadata": {},
   "outputs": [],
   "source": [
    "# TextVectorization\n",
    "\n",
    "train_ds = raw_train_ds.map(vectorize_text)\n",
    "val_ds = raw_val_ds.map(vectorize_text)\n",
    "test_ds = raw_test_ds.map(vectorize_text)"
   ]
  },
  {
   "cell_type": "code",
   "execution_count": 482,
   "id": "f482a098",
   "metadata": {},
   "outputs": [],
   "source": [
    "# Configure the dataset for performance\n",
    "\n",
    "AUTOTUNE = tf.data.AUTOTUNE\n",
    "\n",
    "train_ds = train_ds.cache().prefetch(buffer_size=AUTOTUNE)\n",
    "val_ds = val_ds.cache().prefetch(buffer_size=AUTOTUNE)\n",
    "test_ds = test_ds.cache().prefetch(buffer_size=AUTOTUNE)"
   ]
  },
  {
   "cell_type": "markdown",
   "id": "964b5acf",
   "metadata": {},
   "source": [
    "# Create The Model"
   ]
  },
  {
   "cell_type": "code",
   "execution_count": 483,
   "id": "a05f51df",
   "metadata": {},
   "outputs": [
    {
     "name": "stdout",
     "output_type": "stream",
     "text": [
      "Model: \"sequential_16\"\n",
      "_________________________________________________________________\n",
      " Layer (type)                Output Shape              Param #   \n",
      "=================================================================\n",
      " embedding_12 (Embedding)    (None, None, 16)          160016    \n",
      "                                                                 \n",
      " dropout_24 (Dropout)        (None, None, 16)          0         \n",
      "                                                                 \n",
      " global_average_pooling1d_12  (None, 16)               0         \n",
      "  (GlobalAveragePooling1D)                                       \n",
      "                                                                 \n",
      " dropout_25 (Dropout)        (None, 16)                0         \n",
      "                                                                 \n",
      " dense_12 (Dense)            (None, 4)                 68        \n",
      "                                                                 \n",
      "=================================================================\n",
      "Total params: 160,084\n",
      "Trainable params: 160,084\n",
      "Non-trainable params: 0\n",
      "_________________________________________________________________\n"
     ]
    }
   ],
   "source": [
    "embedding_dim = 16\n",
    "\n",
    "model = tf.keras.Sequential([layers.Embedding(max_features+1, embedding_dim),\n",
    "                             layers.Dropout(0.2),\n",
    "                             layers.GlobalAveragePooling1D(),\n",
    "                             layers.Dropout(0.2),\n",
    "                             layers.Dense(4)])\n",
    "\n",
    "model.summary()"
   ]
  },
  {
   "cell_type": "code",
   "execution_count": 484,
   "id": "e85b4314",
   "metadata": {},
   "outputs": [],
   "source": [
    "# Loss function and optimizer\n",
    "\n",
    "model.compile(loss=losses.SparseCategoricalCrossentropy(from_logits=True),\n",
    "              optimizer='adam',\n",
    "              metrics=['accuracy'])"
   ]
  },
  {
   "cell_type": "code",
   "execution_count": 485,
   "id": "ff9d2498",
   "metadata": {
    "scrolled": true
   },
   "outputs": [
    {
     "name": "stdout",
     "output_type": "stream",
     "text": [
      "Epoch 1/40\n",
      "200/200 [==============================] - 2s 9ms/step - loss: 1.3775 - accuracy: 0.3405 - val_loss: 1.3539 - val_accuracy: 0.5956\n",
      "Epoch 2/40\n",
      "200/200 [==============================] - 1s 3ms/step - loss: 1.3475 - accuracy: 0.4605 - val_loss: 1.2961 - val_accuracy: 0.7256\n",
      "Epoch 3/40\n",
      "200/200 [==============================] - 0s 2ms/step - loss: 1.2931 - accuracy: 0.5312 - val_loss: 1.2183 - val_accuracy: 0.7513\n",
      "Epoch 4/40\n",
      "200/200 [==============================] - 1s 3ms/step - loss: 1.2200 - accuracy: 0.5781 - val_loss: 1.1233 - val_accuracy: 0.7694\n",
      "Epoch 5/40\n",
      "200/200 [==============================] - 1s 3ms/step - loss: 1.1409 - accuracy: 0.6344 - val_loss: 1.0279 - val_accuracy: 0.8175\n",
      "Epoch 6/40\n",
      "200/200 [==============================] - 1s 3ms/step - loss: 1.0641 - accuracy: 0.6689 - val_loss: 0.9392 - val_accuracy: 0.8363\n",
      "Epoch 7/40\n",
      "200/200 [==============================] - 1s 3ms/step - loss: 0.9951 - accuracy: 0.7025 - val_loss: 0.8685 - val_accuracy: 0.8512\n",
      "Epoch 8/40\n",
      "200/200 [==============================] - 1s 3ms/step - loss: 0.9345 - accuracy: 0.7183 - val_loss: 0.8110 - val_accuracy: 0.8481\n",
      "Epoch 9/40\n",
      "200/200 [==============================] - 1s 3ms/step - loss: 0.8786 - accuracy: 0.7402 - val_loss: 0.7547 - val_accuracy: 0.8569\n",
      "Epoch 10/40\n",
      "200/200 [==============================] - 0s 2ms/step - loss: 0.8312 - accuracy: 0.7603 - val_loss: 0.7094 - val_accuracy: 0.8619\n",
      "Epoch 11/40\n",
      "200/200 [==============================] - 1s 3ms/step - loss: 0.7853 - accuracy: 0.7733 - val_loss: 0.6624 - val_accuracy: 0.8700\n",
      "Epoch 12/40\n",
      "200/200 [==============================] - 0s 2ms/step - loss: 0.7500 - accuracy: 0.7822 - val_loss: 0.6237 - val_accuracy: 0.8769\n",
      "Epoch 13/40\n",
      "200/200 [==============================] - 1s 3ms/step - loss: 0.7145 - accuracy: 0.7905 - val_loss: 0.5960 - val_accuracy: 0.8737\n",
      "Epoch 14/40\n",
      "200/200 [==============================] - 1s 3ms/step - loss: 0.6819 - accuracy: 0.8030 - val_loss: 0.5614 - val_accuracy: 0.8819\n",
      "Epoch 15/40\n",
      "200/200 [==============================] - 1s 3ms/step - loss: 0.6534 - accuracy: 0.8083 - val_loss: 0.5359 - val_accuracy: 0.8863\n",
      "Epoch 16/40\n",
      "200/200 [==============================] - 1s 3ms/step - loss: 0.6280 - accuracy: 0.8153 - val_loss: 0.5169 - val_accuracy: 0.8869\n",
      "Epoch 17/40\n",
      "200/200 [==============================] - 1s 2ms/step - loss: 0.6021 - accuracy: 0.8255 - val_loss: 0.4829 - val_accuracy: 0.8994\n",
      "Epoch 18/40\n",
      "200/200 [==============================] - 1s 3ms/step - loss: 0.5781 - accuracy: 0.8319 - val_loss: 0.4623 - val_accuracy: 0.9025\n",
      "Epoch 19/40\n",
      "200/200 [==============================] - 1s 3ms/step - loss: 0.5584 - accuracy: 0.8400 - val_loss: 0.4519 - val_accuracy: 0.9000\n",
      "Epoch 20/40\n",
      "200/200 [==============================] - 1s 3ms/step - loss: 0.5391 - accuracy: 0.8431 - val_loss: 0.4261 - val_accuracy: 0.9150\n",
      "Epoch 21/40\n",
      "200/200 [==============================] - 1s 3ms/step - loss: 0.5207 - accuracy: 0.8539 - val_loss: 0.4121 - val_accuracy: 0.9194\n",
      "Epoch 22/40\n",
      "200/200 [==============================] - 1s 3ms/step - loss: 0.5039 - accuracy: 0.8603 - val_loss: 0.4050 - val_accuracy: 0.9162\n",
      "Epoch 23/40\n",
      "200/200 [==============================] - 0s 2ms/step - loss: 0.4811 - accuracy: 0.8697 - val_loss: 0.3889 - val_accuracy: 0.9200\n",
      "Epoch 24/40\n",
      "200/200 [==============================] - 1s 3ms/step - loss: 0.4675 - accuracy: 0.8717 - val_loss: 0.3891 - val_accuracy: 0.9137\n",
      "Epoch 25/40\n",
      "200/200 [==============================] - 0s 2ms/step - loss: 0.4522 - accuracy: 0.8759 - val_loss: 0.3673 - val_accuracy: 0.9250\n",
      "Epoch 26/40\n",
      "200/200 [==============================] - 1s 3ms/step - loss: 0.4406 - accuracy: 0.8770 - val_loss: 0.3496 - val_accuracy: 0.9287\n",
      "Epoch 27/40\n",
      "200/200 [==============================] - 1s 3ms/step - loss: 0.4253 - accuracy: 0.8836 - val_loss: 0.3431 - val_accuracy: 0.9269\n",
      "Epoch 28/40\n",
      "200/200 [==============================] - 0s 2ms/step - loss: 0.4142 - accuracy: 0.8881 - val_loss: 0.3293 - val_accuracy: 0.9306\n",
      "Epoch 29/40\n",
      "200/200 [==============================] - 1s 3ms/step - loss: 0.3987 - accuracy: 0.8963 - val_loss: 0.3164 - val_accuracy: 0.9356\n",
      "Epoch 30/40\n",
      "200/200 [==============================] - 1s 3ms/step - loss: 0.3904 - accuracy: 0.8972 - val_loss: 0.3039 - val_accuracy: 0.9400\n",
      "Epoch 31/40\n",
      "200/200 [==============================] - 1s 3ms/step - loss: 0.3778 - accuracy: 0.8995 - val_loss: 0.3060 - val_accuracy: 0.9356\n",
      "Epoch 32/40\n",
      "200/200 [==============================] - 0s 2ms/step - loss: 0.3625 - accuracy: 0.9066 - val_loss: 0.2969 - val_accuracy: 0.9381\n",
      "Epoch 33/40\n",
      "200/200 [==============================] - 1s 3ms/step - loss: 0.3515 - accuracy: 0.9122 - val_loss: 0.2903 - val_accuracy: 0.9388\n",
      "Epoch 34/40\n",
      "200/200 [==============================] - 0s 2ms/step - loss: 0.3433 - accuracy: 0.9089 - val_loss: 0.2811 - val_accuracy: 0.9388\n",
      "Epoch 35/40\n",
      "200/200 [==============================] - 1s 3ms/step - loss: 0.3324 - accuracy: 0.9131 - val_loss: 0.2721 - val_accuracy: 0.9400\n",
      "Epoch 36/40\n",
      "200/200 [==============================] - 1s 3ms/step - loss: 0.3234 - accuracy: 0.9166 - val_loss: 0.2609 - val_accuracy: 0.9444\n",
      "Epoch 37/40\n",
      "200/200 [==============================] - 1s 3ms/step - loss: 0.3146 - accuracy: 0.9206 - val_loss: 0.2471 - val_accuracy: 0.9494\n",
      "Epoch 38/40\n",
      "200/200 [==============================] - 1s 3ms/step - loss: 0.3064 - accuracy: 0.9211 - val_loss: 0.2445 - val_accuracy: 0.9469\n",
      "Epoch 39/40\n",
      "200/200 [==============================] - 1s 3ms/step - loss: 0.2975 - accuracy: 0.9250 - val_loss: 0.2412 - val_accuracy: 0.9488\n",
      "Epoch 40/40\n",
      "200/200 [==============================] - 1s 3ms/step - loss: 0.2871 - accuracy: 0.9292 - val_loss: 0.2434 - val_accuracy: 0.9438\n"
     ]
    }
   ],
   "source": [
    "# Train The Model\n",
    "\n",
    "history = model.fit(\n",
    "    train_ds,\n",
    "    validation_data=val_ds,\n",
    "    epochs=40)"
   ]
  },
  {
   "cell_type": "code",
   "execution_count": 486,
   "id": "1cd44201",
   "metadata": {},
   "outputs": [
    {
     "name": "stdout",
     "output_type": "stream",
     "text": [
      "250/250 [==============================] - 5s 21ms/step - loss: 0.5352 - accuracy: 0.8010\n",
      "Loss:  0.5351558327674866\n",
      "Accuracy:  0.8009999990463257\n"
     ]
    }
   ],
   "source": [
    "loss, accuracy = model.evaluate(test_ds)\n",
    "\n",
    "print(\"Loss: \", loss)\n",
    "print(\"Accuracy: \", accuracy)"
   ]
  },
  {
   "cell_type": "code",
   "execution_count": 487,
   "id": "03b663b8",
   "metadata": {},
   "outputs": [
    {
     "data": {
      "text/plain": [
       "dict_keys(['loss', 'accuracy', 'val_loss', 'val_accuracy'])"
      ]
     },
     "execution_count": 487,
     "metadata": {},
     "output_type": "execute_result"
    }
   ],
   "source": [
    "history_dict = history.history\n",
    "history_dict.keys()"
   ]
  },
  {
   "cell_type": "code",
   "execution_count": 488,
   "id": "c2962622",
   "metadata": {},
   "outputs": [
    {
     "data": {
      "image/png": "[encoded data removed]",
      "text/plain": [
       "<Figure size 432x288 with 1 Axes>"
      ]
     },
     "metadata": {
      "needs_background": "light"
     },
     "output_type": "display_data"
    }
   ],
   "source": [
    "acc = history_dict['accuracy']\n",
    "val_acc = history_dict['val_accuracy']\n",
    "loss = history_dict['loss']\n",
    "val_loss = history_dict['val_loss']\n",
    "\n",
    "epochs = range(1, len(acc) + 1)\n",
    "\n",
    "# \"bo\" is for \"blue dot\"\n",
    "plt.plot(epochs, loss, 'bo', label='Training loss')\n",
    "# b is for \"solid blue line\"\n",
    "plt.plot(epochs, val_loss, 'b', label='Validation loss')\n",
    "plt.title('Training and validation loss')\n",
    "plt.xlabel('Epochs')\n",
    "plt.ylabel('Loss')\n",
    "plt.legend()\n",
    "\n",
    "plt.show()"
   ]
  },
  {
   "cell_type": "code",
   "execution_count": 489,
   "id": "40f3b2bd",
   "metadata": {},
   "outputs": [
    {
     "data": {
      "image/png": "[encoded data removed]",
      "text/plain": [
       "<Figure size 432x288 with 1 Axes>"
      ]
     },
     "metadata": {
      "needs_background": "light"
     },
     "output_type": "display_data"
    }
   ],
   "source": [
    "plt.plot(epochs, acc, 'bo', label='Training acc')\n",
    "plt.plot(epochs, val_acc, 'b', label='Validation acc')\n",
    "plt.title('Training and validation accuracy')\n",
    "plt.xlabel('Epochs')\n",
    "plt.ylabel('Accuracy')\n",
    "plt.legend(loc='lower right')\n",
    "\n",
    "plt.show()"
   ]
  },
  {
   "cell_type": "markdown",
   "id": "5e0b84c8",
   "metadata": {},
   "source": [
    "# Export Model"
   ]
  },
  {
   "cell_type": "code",
   "execution_count": 490,
   "id": "6a99a0d0",
   "metadata": {},
   "outputs": [
    {
     "name": "stdout",
     "output_type": "stream",
     "text": [
      "250/250 [==============================] - 2s 6ms/step - loss: 0.5695 - accuracy: 0.8010\n",
      "0.8009999990463257\n"
     ]
    }
   ],
   "source": [
    "export_model = tf.keras.Sequential([\n",
    "  vectorize_layer,\n",
    "  model,\n",
    "  layers.Activation('relu')\n",
    "])\n",
    "\n",
    "export_model.compile(\n",
    "    loss=losses.SparseCategoricalCrossentropy(from_logits=True), optimizer=\"adam\", metrics=['accuracy']\n",
    ")\n",
    "\n",
    "# Test it with `raw_test_ds`, which yields raw strings\n",
    "loss, accuracy = export_model.evaluate(raw_test_ds)\n",
    "print(accuracy)"
   ]
  },
  {
   "cell_type": "markdown",
   "id": "1da45982",
   "metadata": {},
   "source": [
    "# Inference On New Data"
   ]
  },
  {
   "cell_type": "code",
   "execution_count": 491,
   "id": "5699a7d8",
   "metadata": {},
   "outputs": [],
   "source": [
    "examples = [\n",
    "    \"Like strings (and all other built-in sequence types), lists can be indexed and sliced\",\n",
    "    \"An array is a container object that holds a fixed number of values of a single type.\",\n",
    "    \"To define a function, you must use the function keyword, followed by a name, followed by parentheses\"\n",
    "]"
   ]
  },
  {
   "cell_type": "code",
   "execution_count": 492,
   "id": "c81bf16d",
   "metadata": {},
   "outputs": [
    {
     "data": {
      "text/plain": [
       "array([[0.1123006 , 0.        , 0.        , 0.23612867],\n",
       "       [0.05752317, 0.03336529, 0.75981146, 0.        ],\n",
       "       [0.03713671, 0.        , 1.4660606 , 0.        ]], dtype=float32)"
      ]
     },
     "execution_count": 492,
     "metadata": {},
     "output_type": "execute_result"
    }
   ],
   "source": [
    "export_model.predict(examples)"
   ]
  },
  {
   "cell_type": "code",
   "execution_count": null,
   "id": "e5bd005b",
   "metadata": {},
   "outputs": [],
   "source": []
  }
 ],
 "metadata": {
  "kernelspec": {
   "display_name": "Python 3 (ipykernel)",
   "language": "python",
   "name": "python3"
  },
  "language_info": {
   "codemirror_mode": {
    "name": "ipython",
    "version": 3
   },
   "file_extension": ".py",
   "mimetype": "text/x-python",
   "name": "python",
   "nbconvert_exporter": "python",
   "pygments_lexer": "ipython3",
   "version": "3.9.7"
  }
 },
 "nbformat": 4,
 "nbformat_minor": 5
}
